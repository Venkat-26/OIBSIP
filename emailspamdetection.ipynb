{
 "cells": [
  {
   "cell_type": "code",
   "execution_count": 1,
   "id": "2c882756",
   "metadata": {
    "_cell_guid": "b1076dfc-b9ad-4769-8c92-a6c4dae69d19",
    "_uuid": "8f2839f25d086af736a60e9eeb907d3b93b6e0e5",
    "execution": {
     "iopub.execute_input": "2023-07-16T05:11:57.251456Z",
     "iopub.status.busy": "2023-07-16T05:11:57.250174Z",
     "iopub.status.idle": "2023-07-16T05:11:57.264871Z",
     "shell.execute_reply": "2023-07-16T05:11:57.263914Z"
    },
    "papermill": {
     "duration": 0.025966,
     "end_time": "2023-07-16T05:11:57.267275",
     "exception": false,
     "start_time": "2023-07-16T05:11:57.241309",
     "status": "completed"
    },
    "tags": []
   },
   "outputs": [],
   "source": [
    "import pandas as pd\n",
    "import numpy as np\n",
    "import matplotlib.pyplot as plt"
   ]
  },
  {
   "cell_type": "code",
   "execution_count": 2,
   "id": "c6ba6109",
   "metadata": {
    "execution": {
     "iopub.execute_input": "2023-07-16T05:11:57.281955Z",
     "iopub.status.busy": "2023-07-16T05:11:57.281524Z",
     "iopub.status.idle": "2023-07-16T05:11:57.336610Z",
     "shell.execute_reply": "2023-07-16T05:11:57.335488Z"
    },
    "papermill": {
     "duration": 0.064912,
     "end_time": "2023-07-16T05:11:57.338931",
     "exception": false,
     "start_time": "2023-07-16T05:11:57.274019",
     "status": "completed"
    },
    "tags": []
   },
   "outputs": [
    {
     "data": {
      "text/html": [
       "<div>\n",
       "<style scoped>\n",
       "    .dataframe tbody tr th:only-of-type {\n",
       "        vertical-align: middle;\n",
       "    }\n",
       "\n",
       "    .dataframe tbody tr th {\n",
       "        vertical-align: top;\n",
       "    }\n",
       "\n",
       "    .dataframe thead th {\n",
       "        text-align: right;\n",
       "    }\n",
       "</style>\n",
       "<table border=\"1\" class=\"dataframe\">\n",
       "  <thead>\n",
       "    <tr style=\"text-align: right;\">\n",
       "      <th></th>\n",
       "      <th>v1</th>\n",
       "      <th>v2</th>\n",
       "      <th>Unnamed: 2</th>\n",
       "      <th>Unnamed: 3</th>\n",
       "      <th>Unnamed: 4</th>\n",
       "    </tr>\n",
       "  </thead>\n",
       "  <tbody>\n",
       "    <tr>\n",
       "      <th>0</th>\n",
       "      <td>ham</td>\n",
       "      <td>Go until jurong point, crazy.. Available only ...</td>\n",
       "      <td>NaN</td>\n",
       "      <td>NaN</td>\n",
       "      <td>NaN</td>\n",
       "    </tr>\n",
       "    <tr>\n",
       "      <th>1</th>\n",
       "      <td>ham</td>\n",
       "      <td>Ok lar... Joking wif u oni...</td>\n",
       "      <td>NaN</td>\n",
       "      <td>NaN</td>\n",
       "      <td>NaN</td>\n",
       "    </tr>\n",
       "    <tr>\n",
       "      <th>2</th>\n",
       "      <td>spam</td>\n",
       "      <td>Free entry in 2 a wkly comp to win FA Cup fina...</td>\n",
       "      <td>NaN</td>\n",
       "      <td>NaN</td>\n",
       "      <td>NaN</td>\n",
       "    </tr>\n",
       "    <tr>\n",
       "      <th>3</th>\n",
       "      <td>ham</td>\n",
       "      <td>U dun say so early hor... U c already then say...</td>\n",
       "      <td>NaN</td>\n",
       "      <td>NaN</td>\n",
       "      <td>NaN</td>\n",
       "    </tr>\n",
       "    <tr>\n",
       "      <th>4</th>\n",
       "      <td>ham</td>\n",
       "      <td>Nah I don't think he goes to usf, he lives aro...</td>\n",
       "      <td>NaN</td>\n",
       "      <td>NaN</td>\n",
       "      <td>NaN</td>\n",
       "    </tr>\n",
       "  </tbody>\n",
       "</table>\n",
       "</div>"
      ],
      "text/plain": [
       "     v1                                                 v2 Unnamed: 2  \\\n",
       "0   ham  Go until jurong point, crazy.. Available only ...        NaN   \n",
       "1   ham                      Ok lar... Joking wif u oni...        NaN   \n",
       "2  spam  Free entry in 2 a wkly comp to win FA Cup fina...        NaN   \n",
       "3   ham  U dun say so early hor... U c already then say...        NaN   \n",
       "4   ham  Nah I don't think he goes to usf, he lives aro...        NaN   \n",
       "\n",
       "  Unnamed: 3 Unnamed: 4  \n",
       "0        NaN        NaN  \n",
       "1        NaN        NaN  \n",
       "2        NaN        NaN  \n",
       "3        NaN        NaN  \n",
       "4        NaN        NaN  "
      ]
     },
     "execution_count": 2,
     "metadata": {},
     "output_type": "execute_result"
    }
   ],
   "source": [
    "df = pd.read_csv(\"/kaggle/input/sms-spam-collection-dataset/spam.csv\",encoding = \"ISO-8859-1\")\n",
    "df.head()"
   ]
  },
  {
   "cell_type": "code",
   "execution_count": 3,
   "id": "e559184a",
   "metadata": {
    "execution": {
     "iopub.execute_input": "2023-07-16T05:11:57.353919Z",
     "iopub.status.busy": "2023-07-16T05:11:57.353533Z",
     "iopub.status.idle": "2023-07-16T05:11:57.371917Z",
     "shell.execute_reply": "2023-07-16T05:11:57.370975Z"
    },
    "papermill": {
     "duration": 0.028288,
     "end_time": "2023-07-16T05:11:57.374089",
     "exception": false,
     "start_time": "2023-07-16T05:11:57.345801",
     "status": "completed"
    },
    "tags": []
   },
   "outputs": [
    {
     "data": {
      "text/plain": [
       "v1               0\n",
       "v2               0\n",
       "Unnamed: 2    5522\n",
       "Unnamed: 3    5560\n",
       "Unnamed: 4    5566\n",
       "dtype: int64"
      ]
     },
     "execution_count": 3,
     "metadata": {},
     "output_type": "execute_result"
    }
   ],
   "source": [
    "df.isnull().sum()"
   ]
  },
  {
   "cell_type": "code",
   "execution_count": 4,
   "id": "17b2cbfa",
   "metadata": {
    "execution": {
     "iopub.execute_input": "2023-07-16T05:11:57.389229Z",
     "iopub.status.busy": "2023-07-16T05:11:57.388885Z",
     "iopub.status.idle": "2023-07-16T05:11:57.397754Z",
     "shell.execute_reply": "2023-07-16T05:11:57.396641Z"
    },
    "papermill": {
     "duration": 0.018914,
     "end_time": "2023-07-16T05:11:57.399776",
     "exception": false,
     "start_time": "2023-07-16T05:11:57.380862",
     "status": "completed"
    },
    "tags": []
   },
   "outputs": [],
   "source": [
    "df1 = df.drop([\"Unnamed: 2\",\"Unnamed: 3\",\"Unnamed: 4\"], axis=1)"
   ]
  },
  {
   "cell_type": "code",
   "execution_count": 5,
   "id": "41ee90b8",
   "metadata": {
    "execution": {
     "iopub.execute_input": "2023-07-16T05:11:57.415155Z",
     "iopub.status.busy": "2023-07-16T05:11:57.414529Z",
     "iopub.status.idle": "2023-07-16T05:11:57.423223Z",
     "shell.execute_reply": "2023-07-16T05:11:57.422502Z"
    },
    "papermill": {
     "duration": 0.018225,
     "end_time": "2023-07-16T05:11:57.425059",
     "exception": false,
     "start_time": "2023-07-16T05:11:57.406834",
     "status": "completed"
    },
    "tags": []
   },
   "outputs": [
    {
     "data": {
      "text/html": [
       "<div>\n",
       "<style scoped>\n",
       "    .dataframe tbody tr th:only-of-type {\n",
       "        vertical-align: middle;\n",
       "    }\n",
       "\n",
       "    .dataframe tbody tr th {\n",
       "        vertical-align: top;\n",
       "    }\n",
       "\n",
       "    .dataframe thead th {\n",
       "        text-align: right;\n",
       "    }\n",
       "</style>\n",
       "<table border=\"1\" class=\"dataframe\">\n",
       "  <thead>\n",
       "    <tr style=\"text-align: right;\">\n",
       "      <th></th>\n",
       "      <th>v1</th>\n",
       "      <th>v2</th>\n",
       "    </tr>\n",
       "  </thead>\n",
       "  <tbody>\n",
       "    <tr>\n",
       "      <th>0</th>\n",
       "      <td>ham</td>\n",
       "      <td>Go until jurong point, crazy.. Available only ...</td>\n",
       "    </tr>\n",
       "    <tr>\n",
       "      <th>1</th>\n",
       "      <td>ham</td>\n",
       "      <td>Ok lar... Joking wif u oni...</td>\n",
       "    </tr>\n",
       "    <tr>\n",
       "      <th>2</th>\n",
       "      <td>spam</td>\n",
       "      <td>Free entry in 2 a wkly comp to win FA Cup fina...</td>\n",
       "    </tr>\n",
       "    <tr>\n",
       "      <th>3</th>\n",
       "      <td>ham</td>\n",
       "      <td>U dun say so early hor... U c already then say...</td>\n",
       "    </tr>\n",
       "    <tr>\n",
       "      <th>4</th>\n",
       "      <td>ham</td>\n",
       "      <td>Nah I don't think he goes to usf, he lives aro...</td>\n",
       "    </tr>\n",
       "  </tbody>\n",
       "</table>\n",
       "</div>"
      ],
      "text/plain": [
       "     v1                                                 v2\n",
       "0   ham  Go until jurong point, crazy.. Available only ...\n",
       "1   ham                      Ok lar... Joking wif u oni...\n",
       "2  spam  Free entry in 2 a wkly comp to win FA Cup fina...\n",
       "3   ham  U dun say so early hor... U c already then say...\n",
       "4   ham  Nah I don't think he goes to usf, he lives aro..."
      ]
     },
     "execution_count": 5,
     "metadata": {},
     "output_type": "execute_result"
    }
   ],
   "source": [
    "df1.head()"
   ]
  },
  {
   "cell_type": "code",
   "execution_count": 6,
   "id": "af638162",
   "metadata": {
    "execution": {
     "iopub.execute_input": "2023-07-16T05:11:57.440512Z",
     "iopub.status.busy": "2023-07-16T05:11:57.439972Z",
     "iopub.status.idle": "2023-07-16T05:11:57.449689Z",
     "shell.execute_reply": "2023-07-16T05:11:57.448970Z"
    },
    "papermill": {
     "duration": 0.019661,
     "end_time": "2023-07-16T05:11:57.451619",
     "exception": false,
     "start_time": "2023-07-16T05:11:57.431958",
     "status": "completed"
    },
    "tags": []
   },
   "outputs": [
    {
     "data": {
      "text/html": [
       "<div>\n",
       "<style scoped>\n",
       "    .dataframe tbody tr th:only-of-type {\n",
       "        vertical-align: middle;\n",
       "    }\n",
       "\n",
       "    .dataframe tbody tr th {\n",
       "        vertical-align: top;\n",
       "    }\n",
       "\n",
       "    .dataframe thead th {\n",
       "        text-align: right;\n",
       "    }\n",
       "</style>\n",
       "<table border=\"1\" class=\"dataframe\">\n",
       "  <thead>\n",
       "    <tr style=\"text-align: right;\">\n",
       "      <th></th>\n",
       "      <th>Spam or Ham</th>\n",
       "      <th>Mail Message</th>\n",
       "    </tr>\n",
       "  </thead>\n",
       "  <tbody>\n",
       "    <tr>\n",
       "      <th>0</th>\n",
       "      <td>ham</td>\n",
       "      <td>Go until jurong point, crazy.. Available only ...</td>\n",
       "    </tr>\n",
       "    <tr>\n",
       "      <th>1</th>\n",
       "      <td>ham</td>\n",
       "      <td>Ok lar... Joking wif u oni...</td>\n",
       "    </tr>\n",
       "    <tr>\n",
       "      <th>2</th>\n",
       "      <td>spam</td>\n",
       "      <td>Free entry in 2 a wkly comp to win FA Cup fina...</td>\n",
       "    </tr>\n",
       "    <tr>\n",
       "      <th>3</th>\n",
       "      <td>ham</td>\n",
       "      <td>U dun say so early hor... U c already then say...</td>\n",
       "    </tr>\n",
       "    <tr>\n",
       "      <th>4</th>\n",
       "      <td>ham</td>\n",
       "      <td>Nah I don't think he goes to usf, he lives aro...</td>\n",
       "    </tr>\n",
       "  </tbody>\n",
       "</table>\n",
       "</div>"
      ],
      "text/plain": [
       "  Spam or Ham                                       Mail Message\n",
       "0         ham  Go until jurong point, crazy.. Available only ...\n",
       "1         ham                      Ok lar... Joking wif u oni...\n",
       "2        spam  Free entry in 2 a wkly comp to win FA Cup fina...\n",
       "3         ham  U dun say so early hor... U c already then say...\n",
       "4         ham  Nah I don't think he goes to usf, he lives aro..."
      ]
     },
     "execution_count": 6,
     "metadata": {},
     "output_type": "execute_result"
    }
   ],
   "source": [
    "df1.rename(columns = {\"v1\" : \"Spam or Ham\", \"v2\":\"Mail Message\"},inplace = True)\n",
    "df1.head()"
   ]
  },
  {
   "cell_type": "code",
   "execution_count": 7,
   "id": "1fd0b210",
   "metadata": {
    "execution": {
     "iopub.execute_input": "2023-07-16T05:11:57.468943Z",
     "iopub.status.busy": "2023-07-16T05:11:57.468487Z",
     "iopub.status.idle": "2023-07-16T05:11:57.476127Z",
     "shell.execute_reply": "2023-07-16T05:11:57.474949Z"
    },
    "papermill": {
     "duration": 0.019429,
     "end_time": "2023-07-16T05:11:57.478503",
     "exception": false,
     "start_time": "2023-07-16T05:11:57.459074",
     "status": "completed"
    },
    "tags": []
   },
   "outputs": [
    {
     "data": {
      "text/plain": [
       "(5572, 2)"
      ]
     },
     "execution_count": 7,
     "metadata": {},
     "output_type": "execute_result"
    }
   ],
   "source": [
    "df1.shape"
   ]
  },
  {
   "cell_type": "code",
   "execution_count": 8,
   "id": "00e1f7f7",
   "metadata": {
    "execution": {
     "iopub.execute_input": "2023-07-16T05:11:57.496783Z",
     "iopub.status.busy": "2023-07-16T05:11:57.495636Z",
     "iopub.status.idle": "2023-07-16T05:11:58.631091Z",
     "shell.execute_reply": "2023-07-16T05:11:58.629954Z"
    },
    "papermill": {
     "duration": 1.147382,
     "end_time": "2023-07-16T05:11:58.634007",
     "exception": false,
     "start_time": "2023-07-16T05:11:57.486625",
     "status": "completed"
    },
    "tags": []
   },
   "outputs": [
    {
     "name": "stderr",
     "output_type": "stream",
     "text": [
      "/opt/conda/lib/python3.10/site-packages/scipy/__init__.py:146: UserWarning: A NumPy version >=1.16.5 and <1.23.0 is required for this version of SciPy (detected version 1.23.5\n",
      "  warnings.warn(f\"A NumPy version >={np_minversion} and <{np_maxversion}\"\n"
     ]
    }
   ],
   "source": [
    "from sklearn.preprocessing import LabelEncoder\n",
    "encoder = LabelEncoder()\n",
    "df1['Spam or Ham'] = encoder.fit_transform(df1['Spam or Ham'])"
   ]
  },
  {
   "cell_type": "code",
   "execution_count": 9,
   "id": "abdd67d0",
   "metadata": {
    "execution": {
     "iopub.execute_input": "2023-07-16T05:11:58.653157Z",
     "iopub.status.busy": "2023-07-16T05:11:58.652742Z",
     "iopub.status.idle": "2023-07-16T05:11:58.667497Z",
     "shell.execute_reply": "2023-07-16T05:11:58.666402Z"
    },
    "papermill": {
     "duration": 0.027708,
     "end_time": "2023-07-16T05:11:58.669767",
     "exception": false,
     "start_time": "2023-07-16T05:11:58.642059",
     "status": "completed"
    },
    "tags": []
   },
   "outputs": [
    {
     "data": {
      "text/plain": [
       "403"
      ]
     },
     "execution_count": 9,
     "metadata": {},
     "output_type": "execute_result"
    }
   ],
   "source": [
    "df1.duplicated().sum()"
   ]
  },
  {
   "cell_type": "code",
   "execution_count": 10,
   "id": "33f91bac",
   "metadata": {
    "execution": {
     "iopub.execute_input": "2023-07-16T05:11:58.687745Z",
     "iopub.status.busy": "2023-07-16T05:11:58.686976Z",
     "iopub.status.idle": "2023-07-16T05:11:58.697749Z",
     "shell.execute_reply": "2023-07-16T05:11:58.696688Z"
    },
    "papermill": {
     "duration": 0.02238,
     "end_time": "2023-07-16T05:11:58.700134",
     "exception": false,
     "start_time": "2023-07-16T05:11:58.677754",
     "status": "completed"
    },
    "tags": []
   },
   "outputs": [],
   "source": [
    "df1 = df1.drop_duplicates(keep = 'first')"
   ]
  },
  {
   "cell_type": "code",
   "execution_count": 11,
   "id": "3a183d0a",
   "metadata": {
    "execution": {
     "iopub.execute_input": "2023-07-16T05:11:58.718400Z",
     "iopub.status.busy": "2023-07-16T05:11:58.717271Z",
     "iopub.status.idle": "2023-07-16T05:11:58.727565Z",
     "shell.execute_reply": "2023-07-16T05:11:58.726484Z"
    },
    "papermill": {
     "duration": 0.021922,
     "end_time": "2023-07-16T05:11:58.730134",
     "exception": false,
     "start_time": "2023-07-16T05:11:58.708212",
     "status": "completed"
    },
    "tags": []
   },
   "outputs": [
    {
     "data": {
      "text/plain": [
       "0"
      ]
     },
     "execution_count": 11,
     "metadata": {},
     "output_type": "execute_result"
    }
   ],
   "source": [
    "df1.duplicated().sum()"
   ]
  },
  {
   "cell_type": "code",
   "execution_count": 12,
   "id": "84edcac4",
   "metadata": {
    "execution": {
     "iopub.execute_input": "2023-07-16T05:11:58.748517Z",
     "iopub.status.busy": "2023-07-16T05:11:58.748071Z",
     "iopub.status.idle": "2023-07-16T05:11:58.753621Z",
     "shell.execute_reply": "2023-07-16T05:11:58.752376Z"
    },
    "papermill": {
     "duration": 0.01814,
     "end_time": "2023-07-16T05:11:58.756494",
     "exception": false,
     "start_time": "2023-07-16T05:11:58.738354",
     "status": "completed"
    },
    "tags": []
   },
   "outputs": [],
   "source": [
    "X =  df1[\"Mail Message\"]\n",
    "y =df1[\"Spam or Ham\"]"
   ]
  },
  {
   "cell_type": "code",
   "execution_count": 13,
   "id": "e1383110",
   "metadata": {
    "execution": {
     "iopub.execute_input": "2023-07-16T05:11:58.775061Z",
     "iopub.status.busy": "2023-07-16T05:11:58.774609Z",
     "iopub.status.idle": "2023-07-16T05:11:58.887536Z",
     "shell.execute_reply": "2023-07-16T05:11:58.886235Z"
    },
    "papermill": {
     "duration": 0.125064,
     "end_time": "2023-07-16T05:11:58.890284",
     "exception": false,
     "start_time": "2023-07-16T05:11:58.765220",
     "status": "completed"
    },
    "tags": []
   },
   "outputs": [],
   "source": [
    "from sklearn.model_selection import train_test_split\n",
    "X_train, X_test, y_train,y_test = train_test_split(X,y,test_size = 0.20, random_state = 0)"
   ]
  },
  {
   "cell_type": "code",
   "execution_count": 14,
   "id": "1672a931",
   "metadata": {
    "execution": {
     "iopub.execute_input": "2023-07-16T05:11:58.908732Z",
     "iopub.status.busy": "2023-07-16T05:11:58.908282Z",
     "iopub.status.idle": "2023-07-16T05:11:59.152139Z",
     "shell.execute_reply": "2023-07-16T05:11:59.151049Z"
    },
    "papermill": {
     "duration": 0.256372,
     "end_time": "2023-07-16T05:11:59.154850",
     "exception": false,
     "start_time": "2023-07-16T05:11:58.898478",
     "status": "completed"
    },
    "tags": []
   },
   "outputs": [
    {
     "data": {
      "text/plain": [
       "array([[0, 0, 0, ..., 0, 0, 0],\n",
       "       [0, 0, 0, ..., 0, 0, 0],\n",
       "       [0, 0, 0, ..., 0, 0, 0],\n",
       "       ...,\n",
       "       [0, 0, 0, ..., 0, 0, 0],\n",
       "       [0, 0, 0, ..., 0, 0, 0],\n",
       "       [0, 0, 0, ..., 0, 0, 0]])"
      ]
     },
     "execution_count": 14,
     "metadata": {},
     "output_type": "execute_result"
    }
   ],
   "source": [
    "from sklearn.feature_extraction.text import CountVectorizer\n",
    "cv = CountVectorizer()\n",
    "X_train_count = cv.fit_transform(X_train.values)\n",
    "X_train_count.toarray()"
   ]
  },
  {
   "cell_type": "code",
   "execution_count": 15,
   "id": "3346087f",
   "metadata": {
    "execution": {
     "iopub.execute_input": "2023-07-16T05:11:59.173929Z",
     "iopub.status.busy": "2023-07-16T05:11:59.173473Z",
     "iopub.status.idle": "2023-07-16T05:11:59.206357Z",
     "shell.execute_reply": "2023-07-16T05:11:59.205241Z"
    },
    "papermill": {
     "duration": 0.045913,
     "end_time": "2023-07-16T05:11:59.209183",
     "exception": false,
     "start_time": "2023-07-16T05:11:59.163270",
     "status": "completed"
    },
    "tags": []
   },
   "outputs": [
    {
     "data": {
      "text/html": [
       "<style>#sk-container-id-1 {color: black;background-color: white;}#sk-container-id-1 pre{padding: 0;}#sk-container-id-1 div.sk-toggleable {background-color: white;}#sk-container-id-1 label.sk-toggleable__label {cursor: pointer;display: block;width: 100%;margin-bottom: 0;padding: 0.3em;box-sizing: border-box;text-align: center;}#sk-container-id-1 label.sk-toggleable__label-arrow:before {content: \"▸\";float: left;margin-right: 0.25em;color: #696969;}#sk-container-id-1 label.sk-toggleable__label-arrow:hover:before {color: black;}#sk-container-id-1 div.sk-estimator:hover label.sk-toggleable__label-arrow:before {color: black;}#sk-container-id-1 div.sk-toggleable__content {max-height: 0;max-width: 0;overflow: hidden;text-align: left;background-color: #f0f8ff;}#sk-container-id-1 div.sk-toggleable__content pre {margin: 0.2em;color: black;border-radius: 0.25em;background-color: #f0f8ff;}#sk-container-id-1 input.sk-toggleable__control:checked~div.sk-toggleable__content {max-height: 200px;max-width: 100%;overflow: auto;}#sk-container-id-1 input.sk-toggleable__control:checked~label.sk-toggleable__label-arrow:before {content: \"▾\";}#sk-container-id-1 div.sk-estimator input.sk-toggleable__control:checked~label.sk-toggleable__label {background-color: #d4ebff;}#sk-container-id-1 div.sk-label input.sk-toggleable__control:checked~label.sk-toggleable__label {background-color: #d4ebff;}#sk-container-id-1 input.sk-hidden--visually {border: 0;clip: rect(1px 1px 1px 1px);clip: rect(1px, 1px, 1px, 1px);height: 1px;margin: -1px;overflow: hidden;padding: 0;position: absolute;width: 1px;}#sk-container-id-1 div.sk-estimator {font-family: monospace;background-color: #f0f8ff;border: 1px dotted black;border-radius: 0.25em;box-sizing: border-box;margin-bottom: 0.5em;}#sk-container-id-1 div.sk-estimator:hover {background-color: #d4ebff;}#sk-container-id-1 div.sk-parallel-item::after {content: \"\";width: 100%;border-bottom: 1px solid gray;flex-grow: 1;}#sk-container-id-1 div.sk-label:hover label.sk-toggleable__label {background-color: #d4ebff;}#sk-container-id-1 div.sk-serial::before {content: \"\";position: absolute;border-left: 1px solid gray;box-sizing: border-box;top: 0;bottom: 0;left: 50%;z-index: 0;}#sk-container-id-1 div.sk-serial {display: flex;flex-direction: column;align-items: center;background-color: white;padding-right: 0.2em;padding-left: 0.2em;position: relative;}#sk-container-id-1 div.sk-item {position: relative;z-index: 1;}#sk-container-id-1 div.sk-parallel {display: flex;align-items: stretch;justify-content: center;background-color: white;position: relative;}#sk-container-id-1 div.sk-item::before, #sk-container-id-1 div.sk-parallel-item::before {content: \"\";position: absolute;border-left: 1px solid gray;box-sizing: border-box;top: 0;bottom: 0;left: 50%;z-index: -1;}#sk-container-id-1 div.sk-parallel-item {display: flex;flex-direction: column;z-index: 1;position: relative;background-color: white;}#sk-container-id-1 div.sk-parallel-item:first-child::after {align-self: flex-end;width: 50%;}#sk-container-id-1 div.sk-parallel-item:last-child::after {align-self: flex-start;width: 50%;}#sk-container-id-1 div.sk-parallel-item:only-child::after {width: 0;}#sk-container-id-1 div.sk-dashed-wrapped {border: 1px dashed gray;margin: 0 0.4em 0.5em 0.4em;box-sizing: border-box;padding-bottom: 0.4em;background-color: white;}#sk-container-id-1 div.sk-label label {font-family: monospace;font-weight: bold;display: inline-block;line-height: 1.2em;}#sk-container-id-1 div.sk-label-container {text-align: center;}#sk-container-id-1 div.sk-container {/* jupyter's `normalize.less` sets `[hidden] { display: none; }` but bootstrap.min.css set `[hidden] { display: none !important; }` so we also need the `!important` here to be able to override the default hidden behavior on the sphinx rendered scikit-learn.org. See: https://github.com/scikit-learn/scikit-learn/issues/21755 */display: inline-block !important;position: relative;}#sk-container-id-1 div.sk-text-repr-fallback {display: none;}</style><div id=\"sk-container-id-1\" class=\"sk-top-container\"><div class=\"sk-text-repr-fallback\"><pre>MultinomialNB()</pre><b>In a Jupyter environment, please rerun this cell to show the HTML representation or trust the notebook. <br />On GitHub, the HTML representation is unable to render, please try loading this page with nbviewer.org.</b></div><div class=\"sk-container\" hidden><div class=\"sk-item\"><div class=\"sk-estimator sk-toggleable\"><input class=\"sk-toggleable__control sk-hidden--visually\" id=\"sk-estimator-id-1\" type=\"checkbox\" checked><label for=\"sk-estimator-id-1\" class=\"sk-toggleable__label sk-toggleable__label-arrow\">MultinomialNB</label><div class=\"sk-toggleable__content\"><pre>MultinomialNB()</pre></div></div></div></div></div>"
      ],
      "text/plain": [
       "MultinomialNB()"
      ]
     },
     "execution_count": 15,
     "metadata": {},
     "output_type": "execute_result"
    }
   ],
   "source": [
    "#Fitting multinomial naive bayes \n",
    "from sklearn.naive_bayes import MultinomialNB\n",
    "model = MultinomialNB()\n",
    "model.fit(X_train_count,y_train)"
   ]
  },
  {
   "cell_type": "code",
   "execution_count": 16,
   "id": "83e3d6a9",
   "metadata": {
    "execution": {
     "iopub.execute_input": "2023-07-16T05:11:59.228548Z",
     "iopub.status.busy": "2023-07-16T05:11:59.228157Z",
     "iopub.status.idle": "2023-07-16T05:11:59.233067Z",
     "shell.execute_reply": "2023-07-16T05:11:59.231971Z"
    },
    "papermill": {
     "duration": 0.017326,
     "end_time": "2023-07-16T05:11:59.235358",
     "exception": false,
     "start_time": "2023-07-16T05:11:59.218032",
     "status": "completed"
    },
    "tags": []
   },
   "outputs": [],
   "source": [
    "from sklearn.metrics import confusion_matrix , recall_score , precision_score\n",
    "from sklearn.metrics import accuracy_score"
   ]
  },
  {
   "cell_type": "code",
   "execution_count": 17,
   "id": "fc882eda",
   "metadata": {
    "execution": {
     "iopub.execute_input": "2023-07-16T05:11:59.254678Z",
     "iopub.status.busy": "2023-07-16T05:11:59.254262Z",
     "iopub.status.idle": "2023-07-16T05:11:59.263136Z",
     "shell.execute_reply": "2023-07-16T05:11:59.262020Z"
    },
    "papermill": {
     "duration": 0.020959,
     "end_time": "2023-07-16T05:11:59.265387",
     "exception": false,
     "start_time": "2023-07-16T05:11:59.244428",
     "status": "completed"
    },
    "tags": []
   },
   "outputs": [
    {
     "data": {
      "text/plain": [
       "array([0])"
      ]
     },
     "execution_count": 17,
     "metadata": {},
     "output_type": "execute_result"
    }
   ],
   "source": [
    "mail_ham = ['Same. Wana plan a trip sometme then']\n",
    "mail_ham_count = cv.transform(mail_ham)\n",
    "y_pred = model.predict(mail_ham_count)\n",
    "y_pred"
   ]
  },
  {
   "cell_type": "code",
   "execution_count": 18,
   "id": "8a4f6712",
   "metadata": {
    "execution": {
     "iopub.execute_input": "2023-07-16T05:11:59.285291Z",
     "iopub.status.busy": "2023-07-16T05:11:59.284275Z",
     "iopub.status.idle": "2023-07-16T05:11:59.293423Z",
     "shell.execute_reply": "2023-07-16T05:11:59.292499Z"
    },
    "papermill": {
     "duration": 0.021375,
     "end_time": "2023-07-16T05:11:59.295630",
     "exception": false,
     "start_time": "2023-07-16T05:11:59.274255",
     "status": "completed"
    },
    "tags": []
   },
   "outputs": [
    {
     "data": {
      "text/plain": [
       "0.9929866989117292"
      ]
     },
     "execution_count": 18,
     "metadata": {},
     "output_type": "execute_result"
    }
   ],
   "source": [
    "\n",
    "model.score(X_train_count,y_train)"
   ]
  },
  {
   "cell_type": "code",
   "execution_count": 19,
   "id": "17bc3d80",
   "metadata": {
    "execution": {
     "iopub.execute_input": "2023-07-16T05:11:59.315653Z",
     "iopub.status.busy": "2023-07-16T05:11:59.314927Z",
     "iopub.status.idle": "2023-07-16T05:11:59.349204Z",
     "shell.execute_reply": "2023-07-16T05:11:59.347919Z"
    },
    "papermill": {
     "duration": 0.047341,
     "end_time": "2023-07-16T05:11:59.351867",
     "exception": false,
     "start_time": "2023-07-16T05:11:59.304526",
     "status": "completed"
    },
    "tags": []
   },
   "outputs": [
    {
     "data": {
      "text/plain": [
       "0.9816247582205029"
      ]
     },
     "execution_count": 19,
     "metadata": {},
     "output_type": "execute_result"
    }
   ],
   "source": [
    "X_test_count = cv.transform(X_test)\n",
    "model.score(X_test_count,y_test)"
   ]
  }
 ],
 "metadata": {
  "kernelspec": {
   "display_name": "Python 3",
   "language": "python",
   "name": "python3"
  },
  "language_info": {
   "codemirror_mode": {
    "name": "ipython",
    "version": 3
   },
   "file_extension": ".py",
   "mimetype": "text/x-python",
   "name": "python",
   "nbconvert_exporter": "python",
   "pygments_lexer": "ipython3",
   "version": "3.10.12"
  },
  "papermill": {
   "default_parameters": {},
   "duration": 15.364091,
   "end_time": "2023-07-16T05:12:00.385960",
   "environment_variables": {},
   "exception": null,
   "input_path": "__notebook__.ipynb",
   "output_path": "__notebook__.ipynb",
   "parameters": {},
   "start_time": "2023-07-16T05:11:45.021869",
   "version": "2.4.0"
  }
 },
 "nbformat": 4,
 "nbformat_minor": 5
}

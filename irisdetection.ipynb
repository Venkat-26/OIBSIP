{
 "cells": [
  {
   "cell_type": "code",
   "execution_count": 1,
   "id": "e26e1919",
   "metadata": {
    "_cell_guid": "b1076dfc-b9ad-4769-8c92-a6c4dae69d19",
    "_uuid": "8f2839f25d086af736a60e9eeb907d3b93b6e0e5",
    "execution": {
     "iopub.execute_input": "2023-07-16T04:59:50.781789Z",
     "iopub.status.busy": "2023-07-16T04:59:50.781471Z",
     "iopub.status.idle": "2023-07-16T04:59:52.221900Z",
     "shell.execute_reply": "2023-07-16T04:59:52.220920Z"
    },
    "papermill": {
     "duration": 1.449682,
     "end_time": "2023-07-16T04:59:52.224100",
     "exception": false,
     "start_time": "2023-07-16T04:59:50.774418",
     "status": "completed"
    },
    "tags": []
   },
   "outputs": [
    {
     "name": "stderr",
     "output_type": "stream",
     "text": [
      "/opt/conda/lib/python3.10/site-packages/scipy/__init__.py:146: UserWarning: A NumPy version >=1.16.5 and <1.23.0 is required for this version of SciPy (detected version 1.23.5\n",
      "  warnings.warn(f\"A NumPy version >={np_minversion} and <{np_maxversion}\"\n"
     ]
    }
   ],
   "source": [
    "import numpy as np\n",
    "import pandas as pd\n",
    "import matplotlib.pyplot as plt\n",
    "%matplotlib inline\n",
    "import seaborn as sns\n",
    "import sklearn\n",
    "from sklearn.model_selection import train_test_split\n",
    "from sklearn.preprocessing import StandardScaler\n",
    "from sklearn.metrics import accuracy_score\n",
    "from sklearn.metrics import confusion_matrix"
   ]
  },
  {
   "cell_type": "code",
   "execution_count": 2,
   "id": "f40c44ce",
   "metadata": {
    "execution": {
     "iopub.execute_input": "2023-07-16T04:59:52.236754Z",
     "iopub.status.busy": "2023-07-16T04:59:52.236384Z",
     "iopub.status.idle": "2023-07-16T04:59:52.253067Z",
     "shell.execute_reply": "2023-07-16T04:59:52.252419Z"
    },
    "papermill": {
     "duration": 0.025265,
     "end_time": "2023-07-16T04:59:52.255109",
     "exception": false,
     "start_time": "2023-07-16T04:59:52.229844",
     "status": "completed"
    },
    "tags": []
   },
   "outputs": [],
   "source": [
    "df = pd.read_csv('/kaggle/input/iriscsv/Iris.csv')"
   ]
  },
  {
   "cell_type": "code",
   "execution_count": 3,
   "id": "ca5475fc",
   "metadata": {
    "execution": {
     "iopub.execute_input": "2023-07-16T04:59:52.267328Z",
     "iopub.status.busy": "2023-07-16T04:59:52.267032Z",
     "iopub.status.idle": "2023-07-16T04:59:52.286962Z",
     "shell.execute_reply": "2023-07-16T04:59:52.286278Z"
    },
    "papermill": {
     "duration": 0.02783,
     "end_time": "2023-07-16T04:59:52.288525",
     "exception": false,
     "start_time": "2023-07-16T04:59:52.260695",
     "status": "completed"
    },
    "tags": []
   },
   "outputs": [
    {
     "data": {
      "text/html": [
       "<div>\n",
       "<style scoped>\n",
       "    .dataframe tbody tr th:only-of-type {\n",
       "        vertical-align: middle;\n",
       "    }\n",
       "\n",
       "    .dataframe tbody tr th {\n",
       "        vertical-align: top;\n",
       "    }\n",
       "\n",
       "    .dataframe thead th {\n",
       "        text-align: right;\n",
       "    }\n",
       "</style>\n",
       "<table border=\"1\" class=\"dataframe\">\n",
       "  <thead>\n",
       "    <tr style=\"text-align: right;\">\n",
       "      <th></th>\n",
       "      <th>Id</th>\n",
       "      <th>SepalLengthCm</th>\n",
       "      <th>SepalWidthCm</th>\n",
       "      <th>PetalLengthCm</th>\n",
       "      <th>PetalWidthCm</th>\n",
       "      <th>Species</th>\n",
       "    </tr>\n",
       "  </thead>\n",
       "  <tbody>\n",
       "    <tr>\n",
       "      <th>0</th>\n",
       "      <td>1</td>\n",
       "      <td>5.1</td>\n",
       "      <td>3.5</td>\n",
       "      <td>1.4</td>\n",
       "      <td>0.2</td>\n",
       "      <td>Iris-setosa</td>\n",
       "    </tr>\n",
       "    <tr>\n",
       "      <th>1</th>\n",
       "      <td>2</td>\n",
       "      <td>4.9</td>\n",
       "      <td>3.0</td>\n",
       "      <td>1.4</td>\n",
       "      <td>0.2</td>\n",
       "      <td>Iris-setosa</td>\n",
       "    </tr>\n",
       "    <tr>\n",
       "      <th>2</th>\n",
       "      <td>3</td>\n",
       "      <td>4.7</td>\n",
       "      <td>3.2</td>\n",
       "      <td>1.3</td>\n",
       "      <td>0.2</td>\n",
       "      <td>Iris-setosa</td>\n",
       "    </tr>\n",
       "    <tr>\n",
       "      <th>3</th>\n",
       "      <td>4</td>\n",
       "      <td>4.6</td>\n",
       "      <td>3.1</td>\n",
       "      <td>1.5</td>\n",
       "      <td>0.2</td>\n",
       "      <td>Iris-setosa</td>\n",
       "    </tr>\n",
       "    <tr>\n",
       "      <th>4</th>\n",
       "      <td>5</td>\n",
       "      <td>5.0</td>\n",
       "      <td>3.6</td>\n",
       "      <td>1.4</td>\n",
       "      <td>0.2</td>\n",
       "      <td>Iris-setosa</td>\n",
       "    </tr>\n",
       "  </tbody>\n",
       "</table>\n",
       "</div>"
      ],
      "text/plain": [
       "   Id  SepalLengthCm  SepalWidthCm  PetalLengthCm  PetalWidthCm      Species\n",
       "0   1            5.1           3.5            1.4           0.2  Iris-setosa\n",
       "1   2            4.9           3.0            1.4           0.2  Iris-setosa\n",
       "2   3            4.7           3.2            1.3           0.2  Iris-setosa\n",
       "3   4            4.6           3.1            1.5           0.2  Iris-setosa\n",
       "4   5            5.0           3.6            1.4           0.2  Iris-setosa"
      ]
     },
     "execution_count": 3,
     "metadata": {},
     "output_type": "execute_result"
    }
   ],
   "source": [
    "df.head()"
   ]
  },
  {
   "cell_type": "code",
   "execution_count": 4,
   "id": "2e905a8a",
   "metadata": {
    "execution": {
     "iopub.execute_input": "2023-07-16T04:59:52.301113Z",
     "iopub.status.busy": "2023-07-16T04:59:52.300546Z",
     "iopub.status.idle": "2023-07-16T04:59:52.312470Z",
     "shell.execute_reply": "2023-07-16T04:59:52.311796Z"
    },
    "papermill": {
     "duration": 0.019925,
     "end_time": "2023-07-16T04:59:52.313958",
     "exception": false,
     "start_time": "2023-07-16T04:59:52.294033",
     "status": "completed"
    },
    "tags": []
   },
   "outputs": [
    {
     "data": {
      "text/plain": [
       "Iris-setosa        50\n",
       "Iris-versicolor    50\n",
       "Iris-virginica     50\n",
       "Name: Species, dtype: int64"
      ]
     },
     "execution_count": 4,
     "metadata": {},
     "output_type": "execute_result"
    }
   ],
   "source": [
    "df['Species'].value_counts()"
   ]
  },
  {
   "cell_type": "code",
   "execution_count": 5,
   "id": "d893dfd8",
   "metadata": {
    "execution": {
     "iopub.execute_input": "2023-07-16T04:59:52.326627Z",
     "iopub.status.busy": "2023-07-16T04:59:52.325670Z",
     "iopub.status.idle": "2023-07-16T04:59:52.330811Z",
     "shell.execute_reply": "2023-07-16T04:59:52.329814Z"
    },
    "papermill": {
     "duration": 0.012928,
     "end_time": "2023-07-16T04:59:52.332396",
     "exception": false,
     "start_time": "2023-07-16T04:59:52.319468",
     "status": "completed"
    },
    "tags": []
   },
   "outputs": [
    {
     "name": "stdout",
     "output_type": "stream",
     "text": [
      "Input Columns:  ['SepalLengthCm', 'SepalWidthCm', 'PetalLengthCm', 'PetalWidthCm']\n",
      "Target_column: Species\n"
     ]
    }
   ],
   "source": [
    "input_cols = list(df.columns)[1:-1]\n",
    "target_col = 'Species'\n",
    "print(\"Input Columns: \",input_cols)\n",
    "print(\"Target_column:\",target_col)"
   ]
  },
  {
   "cell_type": "markdown",
   "id": "f510c38d",
   "metadata": {
    "papermill": {
     "duration": 0.00518,
     "end_time": "2023-07-16T04:59:52.343218",
     "exception": false,
     "start_time": "2023-07-16T04:59:52.338038",
     "status": "completed"
    },
    "tags": []
   },
   "source": [
    "# **Data Preprocessing**"
   ]
  },
  {
   "cell_type": "code",
   "execution_count": 6,
   "id": "347473e3",
   "metadata": {
    "execution": {
     "iopub.execute_input": "2023-07-16T04:59:52.356665Z",
     "iopub.status.busy": "2023-07-16T04:59:52.356236Z",
     "iopub.status.idle": "2023-07-16T04:59:52.366184Z",
     "shell.execute_reply": "2023-07-16T04:59:52.364937Z"
    },
    "papermill": {
     "duration": 0.018761,
     "end_time": "2023-07-16T04:59:52.368415",
     "exception": false,
     "start_time": "2023-07-16T04:59:52.349654",
     "status": "completed"
    },
    "tags": []
   },
   "outputs": [],
   "source": [
    "inputs = df[input_cols]\n",
    "target = df[target_col]"
   ]
  },
  {
   "cell_type": "code",
   "execution_count": 7,
   "id": "ca367b44",
   "metadata": {
    "execution": {
     "iopub.execute_input": "2023-07-16T04:59:52.381488Z",
     "iopub.status.busy": "2023-07-16T04:59:52.380976Z",
     "iopub.status.idle": "2023-07-16T04:59:52.389018Z",
     "shell.execute_reply": "2023-07-16T04:59:52.388393Z"
    },
    "papermill": {
     "duration": 0.016341,
     "end_time": "2023-07-16T04:59:52.390738",
     "exception": false,
     "start_time": "2023-07-16T04:59:52.374397",
     "status": "completed"
    },
    "tags": []
   },
   "outputs": [],
   "source": [
    "scaler = StandardScaler()\n",
    "inputs = scaler.fit_transform(inputs)"
   ]
  },
  {
   "cell_type": "markdown",
   "id": "7edf6170",
   "metadata": {
    "papermill": {
     "duration": 0.006053,
     "end_time": "2023-07-16T04:59:52.402680",
     "exception": false,
     "start_time": "2023-07-16T04:59:52.396627",
     "status": "completed"
    },
    "tags": []
   },
   "source": [
    "#  **Training And Validation**"
   ]
  },
  {
   "cell_type": "code",
   "execution_count": 8,
   "id": "39f13584",
   "metadata": {
    "execution": {
     "iopub.execute_input": "2023-07-16T04:59:52.415588Z",
     "iopub.status.busy": "2023-07-16T04:59:52.415144Z",
     "iopub.status.idle": "2023-07-16T04:59:52.420242Z",
     "shell.execute_reply": "2023-07-16T04:59:52.419410Z"
    },
    "papermill": {
     "duration": 0.013506,
     "end_time": "2023-07-16T04:59:52.421975",
     "exception": false,
     "start_time": "2023-07-16T04:59:52.408469",
     "status": "completed"
    },
    "tags": []
   },
   "outputs": [],
   "source": [
    "train_inputs, test_inputs, train_targets, test_targets = train_test_split(inputs, target, test_size=0.2, random_state=42)"
   ]
  },
  {
   "cell_type": "code",
   "execution_count": 9,
   "id": "2d15c75f",
   "metadata": {
    "execution": {
     "iopub.execute_input": "2023-07-16T04:59:52.434074Z",
     "iopub.status.busy": "2023-07-16T04:59:52.433804Z",
     "iopub.status.idle": "2023-07-16T04:59:52.438681Z",
     "shell.execute_reply": "2023-07-16T04:59:52.437894Z"
    },
    "papermill": {
     "duration": 0.012795,
     "end_time": "2023-07-16T04:59:52.440250",
     "exception": false,
     "start_time": "2023-07-16T04:59:52.427455",
     "status": "completed"
    },
    "tags": []
   },
   "outputs": [],
   "source": [
    "train_inputs, val_inputs, train_targets, val_targets = train_test_split(train_inputs, train_targets, test_size=0.25, random_state=42)"
   ]
  },
  {
   "cell_type": "code",
   "execution_count": 10,
   "id": "f8203ab4",
   "metadata": {
    "execution": {
     "iopub.execute_input": "2023-07-16T04:59:52.452544Z",
     "iopub.status.busy": "2023-07-16T04:59:52.452008Z",
     "iopub.status.idle": "2023-07-16T04:59:52.457045Z",
     "shell.execute_reply": "2023-07-16T04:59:52.456414Z"
    },
    "papermill": {
     "duration": 0.013034,
     "end_time": "2023-07-16T04:59:52.458670",
     "exception": false,
     "start_time": "2023-07-16T04:59:52.445636",
     "status": "completed"
    },
    "tags": []
   },
   "outputs": [
    {
     "data": {
      "text/plain": [
       "(90, 4)"
      ]
     },
     "execution_count": 10,
     "metadata": {},
     "output_type": "execute_result"
    }
   ],
   "source": [
    "train_inputs.shape"
   ]
  },
  {
   "cell_type": "code",
   "execution_count": 11,
   "id": "a97ab086",
   "metadata": {
    "execution": {
     "iopub.execute_input": "2023-07-16T04:59:52.471527Z",
     "iopub.status.busy": "2023-07-16T04:59:52.471116Z",
     "iopub.status.idle": "2023-07-16T04:59:52.477510Z",
     "shell.execute_reply": "2023-07-16T04:59:52.476451Z"
    },
    "papermill": {
     "duration": 0.014839,
     "end_time": "2023-07-16T04:59:52.479251",
     "exception": false,
     "start_time": "2023-07-16T04:59:52.464412",
     "status": "completed"
    },
    "tags": []
   },
   "outputs": [
    {
     "data": {
      "text/plain": [
       "(30, 4)"
      ]
     },
     "execution_count": 11,
     "metadata": {},
     "output_type": "execute_result"
    }
   ],
   "source": [
    "test_inputs.shape"
   ]
  },
  {
   "cell_type": "code",
   "execution_count": 12,
   "id": "6e643dc0",
   "metadata": {
    "execution": {
     "iopub.execute_input": "2023-07-16T04:59:52.492575Z",
     "iopub.status.busy": "2023-07-16T04:59:52.492196Z",
     "iopub.status.idle": "2023-07-16T04:59:52.497793Z",
     "shell.execute_reply": "2023-07-16T04:59:52.496885Z"
    },
    "papermill": {
     "duration": 0.015071,
     "end_time": "2023-07-16T04:59:52.500012",
     "exception": false,
     "start_time": "2023-07-16T04:59:52.484941",
     "status": "completed"
    },
    "tags": []
   },
   "outputs": [
    {
     "data": {
      "text/plain": [
       "(30, 4)"
      ]
     },
     "execution_count": 12,
     "metadata": {},
     "output_type": "execute_result"
    }
   ],
   "source": [
    "val_inputs.shape"
   ]
  },
  {
   "cell_type": "markdown",
   "id": "edb9b882",
   "metadata": {
    "papermill": {
     "duration": 0.005742,
     "end_time": "2023-07-16T04:59:52.511991",
     "exception": false,
     "start_time": "2023-07-16T04:59:52.506249",
     "status": "completed"
    },
    "tags": []
   },
   "source": [
    "# **Logistic Regression Model**"
   ]
  },
  {
   "cell_type": "code",
   "execution_count": 13,
   "id": "ffebd7c6",
   "metadata": {
    "execution": {
     "iopub.execute_input": "2023-07-16T04:59:52.525270Z",
     "iopub.status.busy": "2023-07-16T04:59:52.524925Z",
     "iopub.status.idle": "2023-07-16T04:59:52.622515Z",
     "shell.execute_reply": "2023-07-16T04:59:52.621421Z"
    },
    "papermill": {
     "duration": 0.106898,
     "end_time": "2023-07-16T04:59:52.624792",
     "exception": false,
     "start_time": "2023-07-16T04:59:52.517894",
     "status": "completed"
    },
    "tags": []
   },
   "outputs": [],
   "source": [
    "from sklearn.linear_model import LogisticRegression\n",
    "model = LogisticRegression(solver='liblinear')"
   ]
  },
  {
   "cell_type": "code",
   "execution_count": 14,
   "id": "3aaad79e",
   "metadata": {
    "execution": {
     "iopub.execute_input": "2023-07-16T04:59:52.638218Z",
     "iopub.status.busy": "2023-07-16T04:59:52.637834Z",
     "iopub.status.idle": "2023-07-16T04:59:52.652510Z",
     "shell.execute_reply": "2023-07-16T04:59:52.651230Z"
    },
    "papermill": {
     "duration": 0.023289,
     "end_time": "2023-07-16T04:59:52.654201",
     "exception": false,
     "start_time": "2023-07-16T04:59:52.630912",
     "status": "completed"
    },
    "tags": []
   },
   "outputs": [
    {
     "data": {
      "text/html": [
       "<style>#sk-container-id-1 {color: black;background-color: white;}#sk-container-id-1 pre{padding: 0;}#sk-container-id-1 div.sk-toggleable {background-color: white;}#sk-container-id-1 label.sk-toggleable__label {cursor: pointer;display: block;width: 100%;margin-bottom: 0;padding: 0.3em;box-sizing: border-box;text-align: center;}#sk-container-id-1 label.sk-toggleable__label-arrow:before {content: \"▸\";float: left;margin-right: 0.25em;color: #696969;}#sk-container-id-1 label.sk-toggleable__label-arrow:hover:before {color: black;}#sk-container-id-1 div.sk-estimator:hover label.sk-toggleable__label-arrow:before {color: black;}#sk-container-id-1 div.sk-toggleable__content {max-height: 0;max-width: 0;overflow: hidden;text-align: left;background-color: #f0f8ff;}#sk-container-id-1 div.sk-toggleable__content pre {margin: 0.2em;color: black;border-radius: 0.25em;background-color: #f0f8ff;}#sk-container-id-1 input.sk-toggleable__control:checked~div.sk-toggleable__content {max-height: 200px;max-width: 100%;overflow: auto;}#sk-container-id-1 input.sk-toggleable__control:checked~label.sk-toggleable__label-arrow:before {content: \"▾\";}#sk-container-id-1 div.sk-estimator input.sk-toggleable__control:checked~label.sk-toggleable__label {background-color: #d4ebff;}#sk-container-id-1 div.sk-label input.sk-toggleable__control:checked~label.sk-toggleable__label {background-color: #d4ebff;}#sk-container-id-1 input.sk-hidden--visually {border: 0;clip: rect(1px 1px 1px 1px);clip: rect(1px, 1px, 1px, 1px);height: 1px;margin: -1px;overflow: hidden;padding: 0;position: absolute;width: 1px;}#sk-container-id-1 div.sk-estimator {font-family: monospace;background-color: #f0f8ff;border: 1px dotted black;border-radius: 0.25em;box-sizing: border-box;margin-bottom: 0.5em;}#sk-container-id-1 div.sk-estimator:hover {background-color: #d4ebff;}#sk-container-id-1 div.sk-parallel-item::after {content: \"\";width: 100%;border-bottom: 1px solid gray;flex-grow: 1;}#sk-container-id-1 div.sk-label:hover label.sk-toggleable__label {background-color: #d4ebff;}#sk-container-id-1 div.sk-serial::before {content: \"\";position: absolute;border-left: 1px solid gray;box-sizing: border-box;top: 0;bottom: 0;left: 50%;z-index: 0;}#sk-container-id-1 div.sk-serial {display: flex;flex-direction: column;align-items: center;background-color: white;padding-right: 0.2em;padding-left: 0.2em;position: relative;}#sk-container-id-1 div.sk-item {position: relative;z-index: 1;}#sk-container-id-1 div.sk-parallel {display: flex;align-items: stretch;justify-content: center;background-color: white;position: relative;}#sk-container-id-1 div.sk-item::before, #sk-container-id-1 div.sk-parallel-item::before {content: \"\";position: absolute;border-left: 1px solid gray;box-sizing: border-box;top: 0;bottom: 0;left: 50%;z-index: -1;}#sk-container-id-1 div.sk-parallel-item {display: flex;flex-direction: column;z-index: 1;position: relative;background-color: white;}#sk-container-id-1 div.sk-parallel-item:first-child::after {align-self: flex-end;width: 50%;}#sk-container-id-1 div.sk-parallel-item:last-child::after {align-self: flex-start;width: 50%;}#sk-container-id-1 div.sk-parallel-item:only-child::after {width: 0;}#sk-container-id-1 div.sk-dashed-wrapped {border: 1px dashed gray;margin: 0 0.4em 0.5em 0.4em;box-sizing: border-box;padding-bottom: 0.4em;background-color: white;}#sk-container-id-1 div.sk-label label {font-family: monospace;font-weight: bold;display: inline-block;line-height: 1.2em;}#sk-container-id-1 div.sk-label-container {text-align: center;}#sk-container-id-1 div.sk-container {/* jupyter's `normalize.less` sets `[hidden] { display: none; }` but bootstrap.min.css set `[hidden] { display: none !important; }` so we also need the `!important` here to be able to override the default hidden behavior on the sphinx rendered scikit-learn.org. See: https://github.com/scikit-learn/scikit-learn/issues/21755 */display: inline-block !important;position: relative;}#sk-container-id-1 div.sk-text-repr-fallback {display: none;}</style><div id=\"sk-container-id-1\" class=\"sk-top-container\"><div class=\"sk-text-repr-fallback\"><pre>LogisticRegression(solver=&#x27;liblinear&#x27;)</pre><b>In a Jupyter environment, please rerun this cell to show the HTML representation or trust the notebook. <br />On GitHub, the HTML representation is unable to render, please try loading this page with nbviewer.org.</b></div><div class=\"sk-container\" hidden><div class=\"sk-item\"><div class=\"sk-estimator sk-toggleable\"><input class=\"sk-toggleable__control sk-hidden--visually\" id=\"sk-estimator-id-1\" type=\"checkbox\" checked><label for=\"sk-estimator-id-1\" class=\"sk-toggleable__label sk-toggleable__label-arrow\">LogisticRegression</label><div class=\"sk-toggleable__content\"><pre>LogisticRegression(solver=&#x27;liblinear&#x27;)</pre></div></div></div></div></div>"
      ],
      "text/plain": [
       "LogisticRegression(solver='liblinear')"
      ]
     },
     "execution_count": 14,
     "metadata": {},
     "output_type": "execute_result"
    }
   ],
   "source": [
    "model.fit(train_inputs, train_targets)"
   ]
  },
  {
   "cell_type": "code",
   "execution_count": 15,
   "id": "27f8d568",
   "metadata": {
    "execution": {
     "iopub.execute_input": "2023-07-16T04:59:52.667318Z",
     "iopub.status.busy": "2023-07-16T04:59:52.666970Z",
     "iopub.status.idle": "2023-07-16T04:59:52.673492Z",
     "shell.execute_reply": "2023-07-16T04:59:52.672609Z"
    },
    "papermill": {
     "duration": 0.014959,
     "end_time": "2023-07-16T04:59:52.675054",
     "exception": false,
     "start_time": "2023-07-16T04:59:52.660095",
     "status": "completed"
    },
    "tags": []
   },
   "outputs": [
    {
     "data": {
      "text/plain": [
       "array([[-0.72170159,  1.40013229, -1.38708483, -1.2656646 ],\n",
       "       [ 0.36920517, -1.2958433 ,  0.12445422, -0.54657811],\n",
       "       [ 0.02714493, -0.29567209,  1.64547156,  2.12828459]])"
      ]
     },
     "execution_count": 15,
     "metadata": {},
     "output_type": "execute_result"
    }
   ],
   "source": [
    "model.coef_"
   ]
  },
  {
   "cell_type": "code",
   "execution_count": 16,
   "id": "a49171b6",
   "metadata": {
    "execution": {
     "iopub.execute_input": "2023-07-16T04:59:52.688946Z",
     "iopub.status.busy": "2023-07-16T04:59:52.687889Z",
     "iopub.status.idle": "2023-07-16T04:59:52.698769Z",
     "shell.execute_reply": "2023-07-16T04:59:52.697846Z"
    },
    "papermill": {
     "duration": 0.019724,
     "end_time": "2023-07-16T04:59:52.700602",
     "exception": false,
     "start_time": "2023-07-16T04:59:52.680878",
     "status": "completed"
    },
    "tags": []
   },
   "outputs": [
    {
     "data": {
      "text/html": [
       "<div>\n",
       "<style scoped>\n",
       "    .dataframe tbody tr th:only-of-type {\n",
       "        vertical-align: middle;\n",
       "    }\n",
       "\n",
       "    .dataframe tbody tr th {\n",
       "        vertical-align: top;\n",
       "    }\n",
       "\n",
       "    .dataframe thead th {\n",
       "        text-align: right;\n",
       "    }\n",
       "</style>\n",
       "<table border=\"1\" class=\"dataframe\">\n",
       "  <thead>\n",
       "    <tr style=\"text-align: right;\">\n",
       "      <th></th>\n",
       "      <th>feature</th>\n",
       "      <th>weights</th>\n",
       "    </tr>\n",
       "  </thead>\n",
       "  <tbody>\n",
       "    <tr>\n",
       "      <th>0</th>\n",
       "      <td>SepalLengthCm</td>\n",
       "      <td>-0.721702</td>\n",
       "    </tr>\n",
       "    <tr>\n",
       "      <th>1</th>\n",
       "      <td>SepalWidthCm</td>\n",
       "      <td>1.400132</td>\n",
       "    </tr>\n",
       "    <tr>\n",
       "      <th>2</th>\n",
       "      <td>PetalLengthCm</td>\n",
       "      <td>-1.387085</td>\n",
       "    </tr>\n",
       "    <tr>\n",
       "      <th>3</th>\n",
       "      <td>PetalWidthCm</td>\n",
       "      <td>-1.265665</td>\n",
       "    </tr>\n",
       "  </tbody>\n",
       "</table>\n",
       "</div>"
      ],
      "text/plain": [
       "         feature   weights\n",
       "0  SepalLengthCm -0.721702\n",
       "1   SepalWidthCm  1.400132\n",
       "2  PetalLengthCm -1.387085\n",
       "3   PetalWidthCm -1.265665"
      ]
     },
     "execution_count": 16,
     "metadata": {},
     "output_type": "execute_result"
    }
   ],
   "source": [
    "pd.DataFrame({\n",
    "    'feature': input_cols,\n",
    "    'weights': model.coef_.tolist()[0]\n",
    "})"
   ]
  },
  {
   "cell_type": "code",
   "execution_count": 17,
   "id": "974ac1f6",
   "metadata": {
    "execution": {
     "iopub.execute_input": "2023-07-16T04:59:52.715729Z",
     "iopub.status.busy": "2023-07-16T04:59:52.715389Z",
     "iopub.status.idle": "2023-07-16T04:59:52.720882Z",
     "shell.execute_reply": "2023-07-16T04:59:52.720081Z"
    },
    "papermill": {
     "duration": 0.015268,
     "end_time": "2023-07-16T04:59:52.722535",
     "exception": false,
     "start_time": "2023-07-16T04:59:52.707267",
     "status": "completed"
    },
    "tags": []
   },
   "outputs": [
    {
     "data": {
      "text/plain": [
       "array([-1.3815705 , -0.85223539, -2.12828973])"
      ]
     },
     "execution_count": 17,
     "metadata": {},
     "output_type": "execute_result"
    }
   ],
   "source": [
    "model.intercept_"
   ]
  },
  {
   "cell_type": "markdown",
   "id": "ad302918",
   "metadata": {
    "papermill": {
     "duration": 0.005895,
     "end_time": "2023-07-16T04:59:52.734772",
     "exception": false,
     "start_time": "2023-07-16T04:59:52.728877",
     "status": "completed"
    },
    "tags": []
   },
   "source": [
    "# **Making Predictions and Validating Model**"
   ]
  },
  {
   "cell_type": "code",
   "execution_count": 18,
   "id": "49234a26",
   "metadata": {
    "execution": {
     "iopub.execute_input": "2023-07-16T04:59:52.748458Z",
     "iopub.status.busy": "2023-07-16T04:59:52.748114Z",
     "iopub.status.idle": "2023-07-16T04:59:52.755321Z",
     "shell.execute_reply": "2023-07-16T04:59:52.754760Z"
    },
    "papermill": {
     "duration": 0.015764,
     "end_time": "2023-07-16T04:59:52.756666",
     "exception": false,
     "start_time": "2023-07-16T04:59:52.740902",
     "status": "completed"
    },
    "tags": []
   },
   "outputs": [],
   "source": [
    "train_preds = model.predict(train_inputs)"
   ]
  },
  {
   "cell_type": "code",
   "execution_count": 19,
   "id": "997b2e82",
   "metadata": {
    "execution": {
     "iopub.execute_input": "2023-07-16T04:59:52.769802Z",
     "iopub.status.busy": "2023-07-16T04:59:52.769515Z",
     "iopub.status.idle": "2023-07-16T04:59:52.776298Z",
     "shell.execute_reply": "2023-07-16T04:59:52.775546Z"
    },
    "papermill": {
     "duration": 0.015304,
     "end_time": "2023-07-16T04:59:52.778032",
     "exception": false,
     "start_time": "2023-07-16T04:59:52.762728",
     "status": "completed"
    },
    "tags": []
   },
   "outputs": [
    {
     "data": {
      "text/plain": [
       "122     Iris-virginica\n",
       "2          Iris-setosa\n",
       "66     Iris-versicolor\n",
       "107     Iris-virginica\n",
       "114     Iris-virginica\n",
       "            ...       \n",
       "130     Iris-virginica\n",
       "10         Iris-setosa\n",
       "58     Iris-versicolor\n",
       "49         Iris-setosa\n",
       "37         Iris-setosa\n",
       "Name: Species, Length: 90, dtype: object"
      ]
     },
     "execution_count": 19,
     "metadata": {},
     "output_type": "execute_result"
    }
   ],
   "source": [
    "train_targets"
   ]
  },
  {
   "cell_type": "code",
   "execution_count": 20,
   "id": "41e24eaa",
   "metadata": {
    "execution": {
     "iopub.execute_input": "2023-07-16T04:59:52.793969Z",
     "iopub.status.busy": "2023-07-16T04:59:52.793648Z",
     "iopub.status.idle": "2023-07-16T04:59:52.800212Z",
     "shell.execute_reply": "2023-07-16T04:59:52.799271Z"
    },
    "papermill": {
     "duration": 0.017011,
     "end_time": "2023-07-16T04:59:52.802047",
     "exception": false,
     "start_time": "2023-07-16T04:59:52.785036",
     "status": "completed"
    },
    "tags": []
   },
   "outputs": [
    {
     "data": {
      "text/plain": [
       "0.9"
      ]
     },
     "execution_count": 20,
     "metadata": {},
     "output_type": "execute_result"
    }
   ],
   "source": [
    "accuracy_score(train_targets, train_preds)"
   ]
  },
  {
   "cell_type": "code",
   "execution_count": 21,
   "id": "07ffd39a",
   "metadata": {
    "execution": {
     "iopub.execute_input": "2023-07-16T04:59:52.816717Z",
     "iopub.status.busy": "2023-07-16T04:59:52.815844Z",
     "iopub.status.idle": "2023-07-16T04:59:52.820628Z",
     "shell.execute_reply": "2023-07-16T04:59:52.819786Z"
    },
    "papermill": {
     "duration": 0.013758,
     "end_time": "2023-07-16T04:59:52.822370",
     "exception": false,
     "start_time": "2023-07-16T04:59:52.808612",
     "status": "completed"
    },
    "tags": []
   },
   "outputs": [],
   "source": [
    "test_preds = model.predict(test_inputs)"
   ]
  },
  {
   "cell_type": "code",
   "execution_count": 22,
   "id": "676be842",
   "metadata": {
    "execution": {
     "iopub.execute_input": "2023-07-16T04:59:52.836315Z",
     "iopub.status.busy": "2023-07-16T04:59:52.835602Z",
     "iopub.status.idle": "2023-07-16T04:59:52.841737Z",
     "shell.execute_reply": "2023-07-16T04:59:52.840796Z"
    },
    "papermill": {
     "duration": 0.014722,
     "end_time": "2023-07-16T04:59:52.843330",
     "exception": false,
     "start_time": "2023-07-16T04:59:52.828608",
     "status": "completed"
    },
    "tags": []
   },
   "outputs": [
    {
     "data": {
      "text/plain": [
       "['Iris-versicolor',\n",
       " 'Iris-setosa',\n",
       " 'Iris-virginica',\n",
       " 'Iris-versicolor',\n",
       " 'Iris-versicolor',\n",
       " 'Iris-setosa',\n",
       " 'Iris-versicolor',\n",
       " 'Iris-virginica',\n",
       " 'Iris-versicolor',\n",
       " 'Iris-versicolor',\n",
       " 'Iris-virginica',\n",
       " 'Iris-setosa',\n",
       " 'Iris-setosa',\n",
       " 'Iris-setosa',\n",
       " 'Iris-setosa',\n",
       " 'Iris-versicolor',\n",
       " 'Iris-virginica',\n",
       " 'Iris-versicolor',\n",
       " 'Iris-versicolor',\n",
       " 'Iris-virginica',\n",
       " 'Iris-setosa',\n",
       " 'Iris-virginica',\n",
       " 'Iris-setosa',\n",
       " 'Iris-virginica',\n",
       " 'Iris-virginica',\n",
       " 'Iris-virginica',\n",
       " 'Iris-virginica',\n",
       " 'Iris-virginica',\n",
       " 'Iris-setosa',\n",
       " 'Iris-setosa']"
      ]
     },
     "execution_count": 22,
     "metadata": {},
     "output_type": "execute_result"
    }
   ],
   "source": [
    "list(test_targets)"
   ]
  },
  {
   "cell_type": "code",
   "execution_count": 23,
   "id": "099625f5",
   "metadata": {
    "execution": {
     "iopub.execute_input": "2023-07-16T04:59:52.857342Z",
     "iopub.status.busy": "2023-07-16T04:59:52.856932Z",
     "iopub.status.idle": "2023-07-16T04:59:52.862757Z",
     "shell.execute_reply": "2023-07-16T04:59:52.862015Z"
    },
    "papermill": {
     "duration": 0.014567,
     "end_time": "2023-07-16T04:59:52.864255",
     "exception": false,
     "start_time": "2023-07-16T04:59:52.849688",
     "status": "completed"
    },
    "tags": []
   },
   "outputs": [
    {
     "data": {
      "text/plain": [
       "0.9333333333333333"
      ]
     },
     "execution_count": 23,
     "metadata": {},
     "output_type": "execute_result"
    }
   ],
   "source": [
    "accuracy_score(test_targets, test_preds)"
   ]
  }
 ],
 "metadata": {
  "kernelspec": {
   "display_name": "Python 3",
   "language": "python",
   "name": "python3"
  },
  "language_info": {
   "codemirror_mode": {
    "name": "ipython",
    "version": 3
   },
   "file_extension": ".py",
   "mimetype": "text/x-python",
   "name": "python",
   "nbconvert_exporter": "python",
   "pygments_lexer": "ipython3",
   "version": "3.10.12"
  },
  "papermill": {
   "default_parameters": {},
   "duration": 11.929132,
   "end_time": "2023-07-16T04:59:53.691099",
   "environment_variables": {},
   "exception": null,
   "input_path": "__notebook__.ipynb",
   "output_path": "__notebook__.ipynb",
   "parameters": {},
   "start_time": "2023-07-16T04:59:41.761967",
   "version": "2.4.0"
  }
 },
 "nbformat": 4,
 "nbformat_minor": 5
}
